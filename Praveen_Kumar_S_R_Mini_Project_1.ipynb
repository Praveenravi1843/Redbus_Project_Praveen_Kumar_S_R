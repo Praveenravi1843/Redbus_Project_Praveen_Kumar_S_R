{
 "cells": [
  {
   "cell_type": "code",
   "execution_count": 9,
   "metadata": {},
   "outputs": [
    {
     "name": "stderr",
     "output_type": "stream",
     "text": [
      "2024-10-05 11:15:38.062 Thread 'MainThread': missing ScriptRunContext! This warning can be ignored when running in bare mode.\n",
      "2024-10-05 11:15:38.063 Thread 'MainThread': missing ScriptRunContext! This warning can be ignored when running in bare mode.\n",
      "2024-10-05 11:15:38.065 Thread 'MainThread': missing ScriptRunContext! This warning can be ignored when running in bare mode.\n",
      "2024-10-05 11:15:38.066 Thread 'MainThread': missing ScriptRunContext! This warning can be ignored when running in bare mode.\n",
      "2024-10-05 11:15:38.068 Thread 'MainThread': missing ScriptRunContext! This warning can be ignored when running in bare mode.\n",
      "2024-10-05 11:15:38.070 Thread 'MainThread': missing ScriptRunContext! This warning can be ignored when running in bare mode.\n",
      "2024-10-05 11:15:38.072 Thread 'MainThread': missing ScriptRunContext! This warning can be ignored when running in bare mode.\n",
      "2024-10-05 11:15:38.073 Thread 'MainThread': missing ScriptRunContext! This warning can be ignored when running in bare mode.\n",
      "2024-10-05 11:15:38.076 Thread 'MainThread': missing ScriptRunContext! This warning can be ignored when running in bare mode.\n",
      "2024-10-05 11:15:38.079 Thread 'MainThread': missing ScriptRunContext! This warning can be ignored when running in bare mode.\n",
      "2024-10-05 11:15:38.081 Thread 'MainThread': missing ScriptRunContext! This warning can be ignored when running in bare mode.\n",
      "2024-10-05 11:15:38.083 Thread 'MainThread': missing ScriptRunContext! This warning can be ignored when running in bare mode.\n",
      "2024-10-05 11:15:38.085 Thread 'MainThread': missing ScriptRunContext! This warning can be ignored when running in bare mode.\n",
      "2024-10-05 11:15:38.086 Thread 'MainThread': missing ScriptRunContext! This warning can be ignored when running in bare mode.\n",
      "2024-10-05 11:16:02.451 Thread 'MainThread': missing ScriptRunContext! This warning can be ignored when running in bare mode.\n",
      "2024-10-05 11:16:02.452 Thread 'MainThread': missing ScriptRunContext! This warning can be ignored when running in bare mode.\n",
      "2024-10-05 11:16:02.453 Thread 'MainThread': missing ScriptRunContext! This warning can be ignored when running in bare mode.\n",
      "2024-10-05 11:16:02.454 Thread 'MainThread': missing ScriptRunContext! This warning can be ignored when running in bare mode.\n",
      "2024-10-05 11:16:02.454 Thread 'MainThread': missing ScriptRunContext! This warning can be ignored when running in bare mode.\n",
      "2024-10-05 11:16:02.455 Thread 'MainThread': missing ScriptRunContext! This warning can be ignored when running in bare mode.\n",
      "2024-10-05 11:16:02.456 Thread 'MainThread': missing ScriptRunContext! This warning can be ignored when running in bare mode.\n",
      "2024-10-05 11:16:02.457 Thread 'MainThread': missing ScriptRunContext! This warning can be ignored when running in bare mode.\n",
      "2024-10-05 11:16:02.457 Thread 'MainThread': missing ScriptRunContext! This warning can be ignored when running in bare mode.\n",
      "2024-10-05 11:16:02.458 Thread 'MainThread': missing ScriptRunContext! This warning can be ignored when running in bare mode.\n",
      "2024-10-05 11:16:02.459 Thread 'MainThread': missing ScriptRunContext! This warning can be ignored when running in bare mode.\n",
      "2024-10-05 11:16:02.460 Thread 'MainThread': missing ScriptRunContext! This warning can be ignored when running in bare mode.\n",
      "2024-10-05 11:16:02.460 Thread 'MainThread': missing ScriptRunContext! This warning can be ignored when running in bare mode.\n",
      "2024-10-05 11:16:02.461 Thread 'MainThread': missing ScriptRunContext! This warning can be ignored when running in bare mode.\n"
     ]
    }
   ],
   "source": [
    "from selenium import webdriver\n",
    "from selenium.webdriver.common.by import By\n",
    "import time\n",
    "import pandas as pd\n",
    "# Initialize WebDriver_1\n",
    "driver = webdriver.Chrome()\n",
    "driver.get(\"https://www.redbus.in/\")\n",
    "driver.find_element(By.ID, 'src').send_keys('Chennai')\n",
    "driver.find_element(By.ID, 'dest').send_keys('Bangalore')\n",
    "# Wait for page to load\n",
    "time.sleep(5)\n",
    "# Example: Fill search fields and submit\n",
    "time.sleep(10)  # Wait for results to load\n",
    "# Scraping bus details\n",
    "buses = []\n",
    "bus_elements = driver.find_elements(By.CLASS_NAME, 'bus-item')\n",
    "# Convert to DataFrame\n",
    "df_buses = pd.DataFrame(buses)\n",
    "driver.quit()\n",
    "import streamlit as st\n",
    "import pandas as pd\n",
    "# Streamlit App Layout\n",
    "st.title(\"Redbus Bus Search\")\n",
    "# Filters\n",
    "min_price = st.sidebar.number_input(\"Minimum Price\", min_value=0)\n",
    "max_price = st.sidebar.number_input(\"Maximum Price\", max_value=1000)\n",
    "\n",
    "from selenium import webdriver\n",
    "from selenium.webdriver.common.by import By\n",
    "import time\n",
    "import pandas as pd# Initialize WebDriver_2\n",
    "driver = webdriver.Chrome()\n",
    "driver.get(\"https://www.redbus.in/search?fromCityName=CMBT,%20Chennai,%20Chennai&fromCityId=66065&srcCountry=IND&toCityName=Marathahalli,%20Bangalore&toCityId=66316&destCountry=IND&onward=6-Oct-2024&opId=0&busType=Any\")\n",
    "# Wait for page to load\n",
    "time.sleep(5)\n",
    "# Example: Fill search fields and submit\n",
    "time.sleep(10)  # Wait for results to load\n",
    "# Scraping bus details\n",
    "buses = []\n",
    "bus_elements = driver.find_elements(By.CLASS_NAME, 'bus-item')\n",
    "# Convert to DataFrame\n",
    "df_buses = pd.DataFrame(buses)\n",
    "driver.quit()\n",
    "import streamlit as st\n",
    "import pandas as pd\n",
    "# Streamlit App Layout\n",
    "st.title(\"Redbus Bus Search\")\n",
    "# Filters\n",
    "min_price = st.sidebar.number_input(\"Minimum Price\", min_value=0)\n",
    "max_price = st.sidebar.number_input(\"Maximum Price\", max_value=1500)"
   ]
  }
 ],
 "metadata": {
  "kernelspec": {
   "display_name": ".venv",
   "language": "python",
   "name": "python3"
  },
  "language_info": {
   "codemirror_mode": {
    "name": "ipython",
    "version": 3
   },
   "file_extension": ".py",
   "mimetype": "text/x-python",
   "name": "python",
   "nbconvert_exporter": "python",
   "pygments_lexer": "ipython3",
   "version": "3.10.11"
  }
 },
 "nbformat": 4,
 "nbformat_minor": 2
}
